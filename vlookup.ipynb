{
 "cells": [
  {
   "cell_type": "code",
   "execution_count": 5,
   "metadata": {},
   "outputs": [],
   "source": [
    "import openpyxl\n",
    "\n",
    "input_file = openpyxl.load_workbook('D:\\\\Python code\\\\Huawei Twamp\\\\Huawei_Twamp (01-Feb-2023).xlsx')\n",
    "output_file = openpyxl.load_workbook('D:\\\\Python code\\\\Huawei Twamp\\\\Huawei Twamp.xlsx')"
   ]
  },
  {
   "cell_type": "code",
   "execution_count": 6,
   "metadata": {},
   "outputs": [],
   "source": [
    "input_sheet = input_file['Huawei_Twamp (01-Feb-2023)']\n",
    "output_sheet = output_file['Huawei_Twamp']"
   ]
  },
  {
   "cell_type": "code",
   "execution_count": 30,
   "metadata": {},
   "outputs": [
    {
     "name": "stdout",
     "output_type": "stream",
     "text": [
      "site_id delay\n",
      "GPRTK1 228.313\n",
      "BGADM1 50.984\n",
      "BGAFR1 141.171\n",
      "BGAMR1 108.005\n",
      "BGAPK1 59.56\n"
     ]
    }
   ],
   "source": [
    "for i in output_sheet.iter_rows():\n",
    "    site = i[0].value\n",
    "    row_number = i[0].row\n",
    "    for j in input_sheet.iter_rows():\n",
    "        #print(j[1].value, j[2].value)\n",
    "        if j[1].value == site:\n",
    "            print(j[1].value, j[2].value)\n",
    "            #print(j[2].vlaue)\n",
    "            output_sheet.cell(row=row_number,column=2).value = j[2].value\n",
    "    output_file.save('D:\\\\Python code\\\\Huawei Twamp\\\\Huawei Twamp__.xlsx')"
   ]
  }
 ],
 "metadata": {
  "kernelspec": {
   "display_name": "Python 3",
   "language": "python",
   "name": "python3"
  },
  "language_info": {
   "codemirror_mode": {
    "name": "ipython",
    "version": 3
   },
   "file_extension": ".py",
   "mimetype": "text/x-python",
   "name": "python",
   "nbconvert_exporter": "python",
   "pygments_lexer": "ipython3",
   "version": "3.10.6"
  },
  "orig_nbformat": 4,
  "vscode": {
   "interpreter": {
    "hash": "d3e10ef16274dd72e574b8fa73b58450b957d8421a2901baded3cca26fcf5dda"
   }
  }
 },
 "nbformat": 4,
 "nbformat_minor": 2
}
